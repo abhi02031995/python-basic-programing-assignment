{
 "cells": [
  {
   "cell_type": "markdown",
   "id": "a5274dee",
   "metadata": {},
   "source": [
    "1.Write a Python Program to find sum of array?"
   ]
  },
  {
   "cell_type": "code",
   "execution_count": 1,
   "id": "db0b7f4c",
   "metadata": {},
   "outputs": [
    {
     "name": "stdout",
     "output_type": "stream",
     "text": [
      "Sum :  24\n"
     ]
    }
   ],
   "source": [
    "sum =0\n",
    "arr = [1,2,3,4,5,9]\n",
    "for i in range(0,len(arr)):\n",
    "    sum+=arr[i]\n",
    "print(\"Sum : \",sum)"
   ]
  },
  {
   "cell_type": "markdown",
   "id": "c38a2c97",
   "metadata": {},
   "source": [
    "2. Write a Python Program to find largest element in an array?"
   ]
  },
  {
   "cell_type": "code",
   "execution_count": 6,
   "id": "9e0f5fed",
   "metadata": {},
   "outputs": [
    {
     "name": "stdout",
     "output_type": "stream",
     "text": [
      "77\n",
      "Largest element in [1, 2, 3, 4, 77, 9] is 77\n"
     ]
    }
   ],
   "source": [
    "c = 0\n",
    "arr = [1,2,3,4,77,9]\n",
    "for i in range(0, len(arr)):\n",
    "    if c > arr[i]:\n",
    "        print(c)\n",
    "    else :\n",
    "        c = arr[i]\n",
    "\n",
    "print(\"Largest element in {} is {}\".format(arr ,c))"
   ]
  },
  {
   "cell_type": "markdown",
   "id": "bb026f68",
   "metadata": {},
   "source": [
    "3.Write a Python Program for array rotation?"
   ]
  },
  {
   "cell_type": "code",
   "execution_count": 7,
   "id": "82b609f5",
   "metadata": {},
   "outputs": [
    {
     "name": "stdout",
     "output_type": "stream",
     "text": [
      "9\n",
      "77\n",
      "4\n",
      "3\n",
      "2\n"
     ]
    }
   ],
   "source": [
    "arr = [1,2,3,4,77,9]\n",
    "rot = []\n",
    "l = len(arr) -1\n",
    "for i in range(l , 0, -1):\n",
    "  print(arr[i])"
   ]
  },
  {
   "cell_type": "markdown",
   "id": "f4deff90",
   "metadata": {},
   "source": [
    "4.Write a Python Program for array rotation?"
   ]
  },
  {
   "cell_type": "code",
   "execution_count": 10,
   "id": "801e8fca",
   "metadata": {},
   "outputs": [
    {
     "name": "stdout",
     "output_type": "stream",
     "text": [
      "Enter the lenth of arr : 9\n",
      "4\n",
      "5\n",
      "8\n",
      "2\n",
      "2\n",
      "5\n",
      "5\n",
      "5\n",
      "5\n",
      "Arr is  [4, 5, 8, 2, 2, 5, 5, 5, 5]\n",
      "Enter Rotation Right/Left : right\n",
      "Enter the number of elements to rotate  : 5\n",
      "After right rotation :  [2, 5, 5, 5, 5, 4, 5, 8, 2]\n"
     ]
    }
   ],
   "source": [
    "l = int(input(\"Enter the lenth of arr : \"))\n",
    "arr = []\n",
    "\n",
    "for i in range(l):\n",
    "    arr.append(int(input()))\n",
    "print(\"Arr is \",arr)\n",
    "rotation = input(\"Enter Rotation Right/Left : \")\n",
    "noro = int(input(\"Enter the number of elements to rotate  : \"))\n",
    "if noro > l:\n",
    "    print(\"can not rotate as elements to rotate is larger then arr length\")\n",
    "else:\n",
    "    rarr = []\n",
    "    if rotation.upper() == \"RIGHT\":\n",
    "        rarr[:] = arr[-noro:] + arr[:(l-noro)]\n",
    "        print(\"After right rotation : \",rarr)\n",
    "    elif rotation.upper() == \"LEFT\":\n",
    "        rarr[:] = arr[noro:l] + arr[:noro] \n",
    "        print(\"After Left rotation : \",rarr)\n",
    "    else:\n",
    "        print(\"Wrong Entry\")"
   ]
  },
  {
   "cell_type": "markdown",
   "id": "44b212ca",
   "metadata": {},
   "source": [
    "5. Write a Python Program to Split the array and add the first part to the end?"
   ]
  },
  {
   "cell_type": "code",
   "execution_count": 11,
   "id": "b13d7753",
   "metadata": {},
   "outputs": [
    {
     "name": "stdout",
     "output_type": "stream",
     "text": [
      "Enter the lenth of your list : 8\n",
      "4\n",
      "4\n",
      "5\n",
      "5\n",
      "4\n",
      "53\n",
      "5\n",
      "5\n",
      "The List   [4, 4, 5, 5, 4, 53, 5, 5]\n",
      "Enter the number of elements to split  : 5\n",
      "The split list is : [4, 4, 5, 5, 4]\n",
      "The List after split and add : [53, 5, 5, 4, 4, 5, 5, 4]\n"
     ]
    }
   ],
   "source": [
    "l = int(input(\"Enter the lenth of your list : \"))\n",
    "arr = []\n",
    "\n",
    "for i in range(l):\n",
    "    arr.append(int(input()))\n",
    "print(\"The List  \",arr)\n",
    "\n",
    "noro = int(input(\"Enter the number of elements to split  : \"))\n",
    "if noro > l:\n",
    "    print(\"can not split as elements to split is larger then list lengh\")\n",
    "else:\n",
    "    print(\"The split list is :\",arr[:noro])\n",
    "    rarr[:] = arr[noro:l] + arr[:noro]\n",
    "    print(\"The List after split and add :\", rarr)"
   ]
  },
  {
   "cell_type": "markdown",
   "id": "39cedea1",
   "metadata": {},
   "source": [
    "6.Write a Python Program to check if given array is Monotonic?"
   ]
  },
  {
   "cell_type": "code",
   "execution_count": 12,
   "id": "3647ebac",
   "metadata": {},
   "outputs": [
    {
     "name": "stdout",
     "output_type": "stream",
     "text": [
      "Enter the lenth of your list : 5\n",
      "5\n",
      "5\n",
      "5\n",
      "5\n",
      "4\n",
      "The List is  [5, 5, 5, 5, 4]\n",
      "Not Monotonic\n"
     ]
    }
   ],
   "source": [
    "l = int(input(\"Enter the lenth of your list : \"))\n",
    "arr = []\n",
    "\n",
    "for i in range(l):\n",
    "    arr.append(int(input()))\n",
    "print(\"The List is \",arr)\n",
    "\n",
    "if all((arr[i] <= arr[i+1] for i in range(l-1)) or (arr[i] >= lst[i+1] for i in range(l-1))):\n",
    "    print(\"Monotonic\")\n",
    "else:\n",
    "    print(\"Not Monotonic\")"
   ]
  },
  {
   "cell_type": "code",
   "execution_count": null,
   "id": "d6a6383c",
   "metadata": {},
   "outputs": [],
   "source": []
  }
 ],
 "metadata": {
  "kernelspec": {
   "display_name": "Python 3 (ipykernel)",
   "language": "python",
   "name": "python3"
  },
  "language_info": {
   "codemirror_mode": {
    "name": "ipython",
    "version": 3
   },
   "file_extension": ".py",
   "mimetype": "text/x-python",
   "name": "python",
   "nbconvert_exporter": "python",
   "pygments_lexer": "ipython3",
   "version": "3.9.7"
  },
  "varInspector": {
   "cols": {
    "lenName": 16,
    "lenType": 16,
    "lenVar": 40
   },
   "kernels_config": {
    "python": {
     "delete_cmd_postfix": "",
     "delete_cmd_prefix": "del ",
     "library": "var_list.py",
     "varRefreshCmd": "print(var_dic_list())"
    },
    "r": {
     "delete_cmd_postfix": ") ",
     "delete_cmd_prefix": "rm(",
     "library": "var_list.r",
     "varRefreshCmd": "cat(var_dic_list()) "
    }
   },
   "types_to_exclude": [
    "module",
    "function",
    "builtin_function_or_method",
    "instance",
    "_Feature"
   ],
   "window_display": false
  }
 },
 "nbformat": 4,
 "nbformat_minor": 5
}
